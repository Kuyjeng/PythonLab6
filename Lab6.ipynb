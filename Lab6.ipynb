{
  "nbformat": 4,
  "nbformat_minor": 0,
  "metadata": {
    "colab": {
      "provenance": [],
      "include_colab_link": true
    },
    "kernelspec": {
      "name": "python3",
      "display_name": "Python 3"
    },
    "language_info": {
      "name": "python"
    }
  },
  "cells": [
    {
      "cell_type": "markdown",
      "metadata": {
        "id": "view-in-github",
        "colab_type": "text"
      },
      "source": [
        "<a href=\"https://colab.research.google.com/github/Kuyjeng/PythonLab6/blob/main/Lab6.ipynb\" target=\"_parent\"><img src=\"https://colab.research.google.com/assets/colab-badge.svg\" alt=\"Open In Colab\"/></a>"
      ]
    },
    {
      "cell_type": "markdown",
      "source": [
        "Ex. 6.1 ให้เขียนฟังก์ชันชื่อ test_ pangram เพื่อตรวจสอบว่า String ที่รับเข้ามาเป็น pangram หรือไม่ โดย pangram คือ string ที่ประกอบด้วยตัวอักษรทุกตัวในภาษาอังกฤษ (ต้องมีอักษรแต่ละตัวปรากฏอย่างน้อย 1 ครั้ง) เช่น\n",
        "The quick brown fox jumps over the lazy dog\n",
        "รับข้อมูลเป็น string และ return เป็น True หรือ False"
      ],
      "metadata": {
        "id": "g1jKRrPZdrD9"
      }
    },
    {
      "cell_type": "code",
      "execution_count": 10,
      "metadata": {
        "colab": {
          "base_uri": "https://localhost:8080/"
        },
        "id": "oc_mt8z2dluv",
        "outputId": "7d9167d6-d488-49fd-c52c-3482a735c322"
      },
      "outputs": [
        {
          "output_type": "stream",
          "name": "stdout",
          "text": [
            "True\n",
            "False\n"
          ]
        }
      ],
      "source": [
        "def test_pangram(s):\n",
        "    alphabet = 'abcdefghijklmnopqrstuvwxyz'\n",
        "    s = s.lower()\n",
        "    for char in alphabet:\n",
        "        if char not in s:\n",
        "            return False\n",
        "    return True\n",
        "\n",
        "print(test_pangram(\"The quick brown fox jumps over the lazy dog\"))\n",
        "print(test_pangram(\"Hello world\"))\n"
      ]
    },
    {
      "cell_type": "markdown",
      "source": [
        "Ex 6.2 จงเขียน โปรแกรมที่รวมผลลัพธ์ ของตัวเลขที่อยู่ใน List โดยกำหนดให้ฟังก์ชัน ชื่อ find_sum(n_list,n) โดย n_list เป็น List ของตัวเลขที่มีความยาว n โดยให้เขียนในแบบ Recursion\n"
      ],
      "metadata": {
        "id": "jsFdK2rreKku"
      }
    },
    {
      "cell_type": "code",
      "source": [
        "def find_sum(n_list, n):\n",
        "    if n <= 0:\n",
        "        return 0\n",
        "    else:\n",
        "        return n_list[n - 1] + find_sum(n_list, n - 1)\n",
        "\n",
        "find_sum([1,2,3,4,5,6,7,8,9,10],10)"
      ],
      "metadata": {
        "id": "SWhMgyAc0uSI",
        "colab": {
          "base_uri": "https://localhost:8080/"
        },
        "outputId": "7557c27a-a339-425a-d517-c832ef5831fb"
      },
      "execution_count": 2,
      "outputs": [
        {
          "output_type": "execute_result",
          "data": {
            "text/plain": [
              "55"
            ]
          },
          "metadata": {},
          "execution_count": 2
        }
      ]
    },
    {
      "cell_type": "markdown",
      "source": [
        "Ex 6.3 กำหนดให้ List x เก็บ String และตัวแปร c เก็บตัวอักษร\n",
        "ให้สร้าง List d ที่เก็บจำนวนครั้งที่ตัวอักษรใน c ปรากฏในแต่ละ String ของ List x โดยใช้ List comprehension\n",
        "\n",
        "- เช่น x = [‘abba’, ‘babana’, ‘ann’]; c = ‘a’\n",
        "- จะได้ d = [2, 3, 1]\n",
        "\n",
        "ให้เขียนในฟังก์ชัน count_char_in_string(x,c) แล้ว return เป็น List คำตอบ"
      ],
      "metadata": {
        "id": "S9FRT-zz05-A"
      }
    },
    {
      "cell_type": "code",
      "source": [
        "def count_char_in_string(x, c):\n",
        "     return [sum(1 for char in s if char == c) for s in x]\n",
        "\n",
        "print(count_char_in_string(['abba', 'babana', 'ann'], 'a'))\n",
        "print(count_char_in_string(['apple', 'banana', 'cherry'], 'a'))\n",
        "print(count_char_in_string(['dog', 'cat', 'fish'], 'z'))\n",
        "print(count_char_in_string(['abc', 'bcb', 'cab'], 'b'))\n",
        "print(count_char_in_string(['', 'a', ''], 'a'))\n",
        "print(count_char_in_string(['@home', '#hash', 'space '], '#'))\n",
        "\n",
        "# count_char_in_string(['abba', 'babana', 'ann'],'a') => [2, 3, 1]\n",
        "# count_char_in_string(['apple', 'banana', 'cherry'],'a') => [1, 3, 1]\n",
        "# count_char_in_string(['dog', 'cat', 'fish'],'z') => [0, 0, 0]\n",
        "# count_char_in_string(['abc', 'bcb', 'cab'],'b') => [1, 2, 1]\n",
        "# count_char_in_string(['', 'a', ''],'a') => [0, 1, 0]\n",
        "# count_char_in_string(['@home', '#hash', 'space '],'#') => [0, 1, 0]"
      ],
      "metadata": {
        "id": "yQZQFVa01JPs",
        "colab": {
          "base_uri": "https://localhost:8080/"
        },
        "outputId": "6d7c7109-ae44-40ce-971f-65d0e573205c"
      },
      "execution_count": 11,
      "outputs": [
        {
          "output_type": "stream",
          "name": "stdout",
          "text": [
            "[2, 3, 1]\n",
            "[1, 3, 0]\n",
            "[0, 0, 0]\n",
            "[1, 2, 1]\n",
            "[0, 1, 0]\n",
            "[0, 1, 0]\n"
          ]
        }
      ]
    },
    {
      "cell_type": "markdown",
      "source": [
        "Ex 6.4  กำหนดให้ List x เป็น List ของจำนวนเต็ม\n",
        "ให้เขียนโปรแกรมเพื่อลบจำนวนเต็มทุกตัวใน x ที่มีค่าเป็นลบ โดยใช้ List comprehension\n",
        "\n",
        "- เช่น x = [ [1, -3, 2], [-8, 5], [-1, -4, -3] ]\n",
        "- ได้คำตอบเป็น [ [1, 2], [5], [] ]\n",
        "\n",
        "ให้เขียนในฟังก์ชัน delete_minus(x) แล้ว return เป็น List คำตอบ\n",
        "Hint : ถ้าคิดไม่ออกให้ทดลองเขียนแบบปกติก่อน แล้วค่อยลดรูป\n"
      ],
      "metadata": {
        "id": "vRtEJLkP5MLT"
      }
    },
    {
      "cell_type": "code",
      "source": [
        "def delete_minus(x):\n",
        "    return [[num for num in sublist if num >= 0] for sublist in x]\n",
        "\n",
        "print(delete_minus([[1, -3, 2], [-8, 5], [-1, -4, -3]]))\n",
        "print(delete_minus([[0, -1, -2], [3, 4, -5], [-6, 7]]))\n",
        "print(delete_minus([[10, -10, 20], [-30, 30], [40, -40]]))\n",
        "print(delete_minus([[1, 2, 3], [4, 5], [6]]))\n",
        "print(delete_minus([[-1, -2, -3], [-4, -5], [-6]]))\n",
        "print(delete_minus([[-10, -20, -30], [-40, -50], [-60]]))\n",
        "\n",
        "\n",
        "# delete_minus([[1, -3, 2], [-8, 5], [-1, -4, -3]]) => [[1, 2], [5], []]\n",
        "# delete_minus([[0, -1, -2], [3, 4, -5], [-6, 7]]) => [[0], [3, 4], [7]]\n",
        "# delete_minus([[10, -10, 20], [-30, 30], [40, -40]]) => [[10, 20], [30], [40]]\n",
        "# delete_minus([[1, 2, 3], [4, 5], [6]]) => [[1, 2, 3], [4, 5], [6]]\n",
        "# delete_minus([[-1, -2, -3], [-4, -5], [-6]]) => [[], [], []]\n",
        "# delete_minus([[-10, -20, -30], [-40, -50], [-60]]) => [[], [], []]"
      ],
      "metadata": {
        "id": "SDA5CALo5WPK",
        "colab": {
          "base_uri": "https://localhost:8080/"
        },
        "outputId": "e397512d-f0b5-46a9-836c-6cd9b8e6b713"
      },
      "execution_count": 5,
      "outputs": [
        {
          "output_type": "stream",
          "name": "stdout",
          "text": [
            "[[1, 2], [5], []]\n",
            "[[0], [3, 4], [7]]\n",
            "[[10, 20], [30], [40]]\n",
            "[[1, 2, 3], [4, 5], [6]]\n",
            "[[], [], []]\n",
            "[[], [], []]\n"
          ]
        }
      ]
    },
    {
      "cell_type": "markdown",
      "source": [
        "Ex 6.5 ให้เขียนโปรแกรมเพื่อรับข้อมูล 1 บรรทัด ที่ประกอบด้วยจำนวนเต็มหลายจำนวน (คั่นด้วยช่องว่าง)\n",
        "ให้ส่งคืนว่ามีจำนวนที่เป็นลบกี่จำนวน โดยใช้ List comprehension\n",
        "ให้เขียนในฟังก์ชัน count_minus(str) แล้ว return เป็นคำตอบ"
      ],
      "metadata": {
        "id": "nLUpu-7v6MCa"
      }
    },
    {
      "cell_type": "code",
      "source": [
        "def count_minus(s):\n",
        "    return len([int(num) for num in s.split() if int(num) < 0])\n",
        "print(count_minus(\"1 2 -3 4 -5\"))\n",
        "print(count_minus(\"-1 -2 -3 -4 -5\"))\n",
        "print(count_minus(\"1 2 3 4 5\"))\n",
        "print(count_minus(\"0 0 0 0 0\"))\n",
        "print(count_minus(\"-10 -20 -30 -40 -50\"))\n",
        "\n",
        "\n",
        "# count_minus(\"1 2 -3 4 -5\") => 2\n",
        "# count_minus(\"-1 -2 -3 -4 -5\") => 5\n",
        "# count_minus(\"1 2 3 4 5\") => 0\n",
        "# count_minus(\"0 0 0 0 0\") => 0\n",
        "# count_minus(\"-10 -20 -30 -40 -50\") => 5"
      ],
      "metadata": {
        "id": "BO0JESLu9cVj",
        "colab": {
          "base_uri": "https://localhost:8080/"
        },
        "outputId": "84914d60-5c02-47fc-fd2b-48ae96756dca"
      },
      "execution_count": 6,
      "outputs": [
        {
          "output_type": "stream",
          "name": "stdout",
          "text": [
            "2\n",
            "5\n",
            "0\n",
            "0\n",
            "5\n"
          ]
        }
      ]
    },
    {
      "cell_type": "markdown",
      "source": [
        "Ex 6.6 ให้เขียนโปรแกรมเพื่อรับ string 1 ตัว\n",
        "ให้ส่งคืนเฉพาะตัวอักษรที่เป็นภาษาอังกฤษ โดยใช้ List comprehension\n",
        "ให้เขียนในฟังก์ชัน only_english(string1) แล้ว return เป็นคำตอบเป็น string"
      ],
      "metadata": {
        "id": "18YUhkQ96Fiw"
      }
    },
    {
      "cell_type": "code",
      "source": [
        "def only_english(string1):\n",
        "    result = \"\"\n",
        "    for char in string1:\n",
        "        if ('a' <= char <= 'z') or ('A' <= char <= 'Z'):\n",
        "            result += char\n",
        "    return result\n",
        "print(only_english(\"Hello, World!\"))\n",
        "print(only_english(\"This is a test.\"))\n",
        "print(only_english(\"12345\"))\n",
        "print(only_english(\"abcABC123\"))\n",
        "print(only_english(\"!@#$%^&*()\"))\n",
        "\n",
        "# only_english(\"Hello, World!\") => \"Hello World\"\n",
        "# only_english(\"This is a test.\") => \"This is a test\"\n",
        "# only_english(\"12345\") => \"\"\n",
        "# only_english(\"abcABC123\") => \"abcABC\"\n",
        "# only_english(\"!@#$%^&*()\") => \"\""
      ],
      "metadata": {
        "id": "QM_Vbz-k9shU",
        "colab": {
          "base_uri": "https://localhost:8080/"
        },
        "outputId": "337c4e33-5f91-404a-d857-c7a6b3880c78"
      },
      "execution_count": 13,
      "outputs": [
        {
          "output_type": "stream",
          "name": "stdout",
          "text": [
            "HelloWorld\n",
            "Thisisatest\n",
            "\n",
            "abcABC\n",
            "\n"
          ]
        }
      ]
    },
    {
      "cell_type": "markdown",
      "source": [
        "Ex 6.7 กำหนดให้ list x และ y เป็น list ของจำนวนเต็ม โดยมีขนาดเท่ากัน\n",
        "ให้ return list ที่เป็นผลบวกของ list x และ y โดยใช้ list comprehension\n",
        "เขียนให้ function ชื่อ add2list(lst1,lst2)\n",
        "\n",
        "\n"
      ],
      "metadata": {
        "id": "S5dKtu4o96b-"
      }
    },
    {
      "cell_type": "code",
      "source": [
        "def add2list(lst1, lst2):\n",
        "    return [lst1[i] + lst2[i] for i in range(len(lst1))]\n",
        "\n",
        "print(add2list([1, 2, 3], [4, 5, 6]))\n",
        "print(add2list([-1, -2, -3], [1, 2, 3]))\n",
        "print(add2list([0, 0, 0], [10, 20, 30]))\n",
        "print(add2list([7, 8, 9], [3, 2, 1]))\n",
        "print(add2list([100, 200, 300], [400, 500, 600]))\n",
        "print(add2list([1, 2, 3, 4, 5], [6, 7, 8, 9, 10]))\n",
        "\n",
        "# add2list([1, 2, 3], [4, 5, 6]) => [5, 7, 9]\n",
        "# add2list([-1, -2, -3], [1, 2, 3]) => [0, 0, 0]\n",
        "# add2list([0, 0, 0], [10, 20, 30]) => [10, 20, 30]\n",
        "# add2list([7, 8, 9], [3, 2, 1]) => [10, 10, 10]\n",
        "# add2list([100, 200, 300], [400, 500, 600]) => [500, 700, 900]\n",
        "# add2list([1, 2, 3, 4, 5], [6, 7, 8, 9, 10]) => [7, 9, 11, 13, 15]\n"
      ],
      "metadata": {
        "id": "L18pzqF5-AtR",
        "colab": {
          "base_uri": "https://localhost:8080/"
        },
        "outputId": "a0ad9b25-ac5e-4410-ea69-47b3e47602f6"
      },
      "execution_count": 14,
      "outputs": [
        {
          "output_type": "stream",
          "name": "stdout",
          "text": [
            "[5, 7, 9]\n",
            "[0, 0, 0]\n",
            "[10, 20, 30]\n",
            "[10, 10, 10]\n",
            "[500, 700, 900]\n",
            "[7, 9, 11, 13, 15]\n"
          ]
        }
      ]
    },
    {
      "cell_type": "markdown",
      "source": [
        "1.\tกำหนดให้ m เป็น list ของ list ของ Integer ให้แปลง m ให้เป็น list ของ integer โดยใช้ List Comprehension โดยให้เขียนเป็น ฟังก์ชัน ชื่อ flatten_list(lst) และ return เป็น list คำตอบ\n",
        "- Input : [ [1, 2, 3], [4, 5, 6] ]\n",
        "- Output : [1, 2, 3, 4, 5, 6]\n"
      ],
      "metadata": {
        "id": "5HpBdNsU-4SW"
      }
    },
    {
      "cell_type": "code",
      "source": [
        "def flatten_list(lst):\n",
        "    return [item for sublist in lst for item in sublist]\n",
        "print(flatten_list([[1, 2, 3], [4, 5, 6]]))\n",
        "print(flatten_list([[7, 8], [9, 10], [11, 12]]))\n",
        "print(flatten_list([[0], [1], [2], [3]]))\n",
        "print(flatten_list([[1, 1, 1], [2, 2], [3]]))\n",
        "print(flatten_list([[5, 6, 7], [8], [9, 10]]))\n",
        "# flatten_list([[1, 2, 3], [4, 5, 6]]) => [1, 2, 3, 4, 5, 6]\n",
        "# flatten_list([[7, 8], [9, 10], [11, 12]]) => [7, 8, 9, 10, 11, 12]\n",
        "# flatten_list([[0], [1], [2], [3]]) => [0, 1, 2, 3]\n",
        "# flatten_list([[1, 1, 1], [2, 2], [3]]) => [1, 1, 1, 2, 2, 3]\n",
        "# flatten_list([[5, 6, 7], [8], [9, 10]]) => [5, 6, 7, 8, 9, 10]\n"
      ],
      "metadata": {
        "id": "nfKGEY7d--zX",
        "colab": {
          "base_uri": "https://localhost:8080/"
        },
        "outputId": "34411a29-02b5-44c1-b0ea-1500f0785931"
      },
      "execution_count": 16,
      "outputs": [
        {
          "output_type": "stream",
          "name": "stdout",
          "text": [
            "[1, 2, 3, 4, 5, 6]\n",
            "[7, 8, 9, 10, 11, 12]\n",
            "[0, 1, 2, 3]\n",
            "[1, 1, 1, 2, 2, 3]\n",
            "[5, 6, 7, 8, 9, 10]\n"
          ]
        }
      ]
    },
    {
      "cell_type": "markdown",
      "source": [
        "2.\tกำหนดให้ s เป็น list ของ Integer ให้เขียนโปรแกรม ตัดตัวเลขที่ซ้ำกันใน list ให้เหลือเพียงตัวเลขเดียว โดยใช้ list comprehension (ห้ามใช้ set) โดยมีขั้นตอนดังนี้\n",
        "-\tเรียงลำดับข้อมูลใน list\n",
        "-\tสร้าง list ใหม่ โดยนำข้อมูลใน list ตัวที่ติดกันมาพิจารณาจากซ้ายไปขวา หากค่าไม่เท่ากันให้นำไปใส่ใน list ใหม่\n",
        "-\tนำตัวขวาสุด (ตัวสุดท้าย) เพิ่มเข้าไปใน list ใหม่ ก็จะได้ s ที่ไม่มีตัวซ้ำ\n",
        "-\tโดยให้เขียนเป็นฟังก์ชัน ชื่อ remove_duplicate(s)\n",
        "\n",
        "- Input : [1, 2, 3, 3, 4, 5, 6]\n",
        "- Output : [1, 2, 3, 4, 5, 6]\n",
        "\n",
        "ห้ามใช้ sort"
      ],
      "metadata": {
        "id": "_FXeyEnm_y8X"
      }
    },
    {
      "cell_type": "code",
      "source": [
        "def remove_duplicate(s):\n",
        "    y = []\n",
        "    return [x for x in s if not (x in y or y.append(x))]\n",
        "\n",
        "print(remove_duplicate([1, 2, 3, 3, 4, 5, 6]))\n",
        "print(remove_duplicate([5, 1, 3, 3, 2, 5, 1]))\n",
        "print(remove_duplicate([7, 7, 8, 8, 8, 9]))\n",
        "print(remove_duplicate([10, 10, 10, 10]))\n",
        "print(remove_duplicate([1, 2, 2, 3, 4, 4, 4, 5]))\n",
        "\n",
        "\n",
        "# remove_duplicate([1, 2, 3, 3, 4, 5, 6]) => [1, 2, 3, 4, 5, 6]\n",
        "# remove_duplicate([5, 1, 3, 3, 2, 5, 1]) => [1, 2, 3, 5]\n",
        "# remove_duplicate([7, 7, 8, 8, 8, 9]) => [7, 8, 9]\n",
        "# remove_duplicate([10, 10, 10, 10]) => [10]\n",
        "# remove_duplicate([1, 2, 2, 3, 4, 4, 4, 5]) => [1, 2, 3, 4, 5]\n"
      ],
      "metadata": {
        "id": "iH8ceRWJ_5wq",
        "colab": {
          "base_uri": "https://localhost:8080/"
        },
        "outputId": "2d2adbc6-40c3-4ab3-96f3-0b04087479a1"
      },
      "execution_count": 17,
      "outputs": [
        {
          "output_type": "stream",
          "name": "stdout",
          "text": [
            "[1, 2, 3, 4, 5, 6]\n",
            "[5, 1, 3, 2]\n",
            "[7, 8, 9]\n",
            "[10]\n",
            "[1, 2, 3, 4, 5]\n"
          ]
        }
      ]
    },
    {
      "cell_type": "markdown",
      "source": [
        "3.\tกำหนดให้มี 2 list คือ lst1 และ lst2 ให้ค้นหาสมาชิกที่มีในทั้ง 2 list โดยใช้ list comprehension\n",
        "(ห้ามใช้ set) โดยให้เขียนเป็นฟังก์ชันชื่อ common_member(lst1, lst2) โดย return เป็น list ที่มีสมาชิกทั้ง 2 list\n",
        "- Input : lst1 = [1, 2, 4, 5, 6] lst2 = [2, 3, 4]\n",
        "- Output : [2, 4]\n"
      ],
      "metadata": {
        "id": "f9smt54DAyYU"
      }
    },
    {
      "cell_type": "code",
      "source": [
        "def common_member(lst1, lst2):\n",
        "    return [item for item in lst1 if item in lst2]\n",
        "print(common_member([1, 2, 4, 5, 6], [2, 3, 4]))\n",
        "print(common_member([1, 2, 3, 4, 5], [6, 7, 8]))\n",
        "print(common_member([1, 2, 3, 4, 5], [1, 2, 3, 4, 5]))\n",
        "print(common_member([1, 2, 3, 4, 5], [5, 4, 3, 2, 1]))\n",
        "print(common_member([1, 2, 3, 4, 5], [6, 7, 8, 9, 10]))\n",
        "\n",
        "# common_member([1, 2, 4, 5, 6], [2, 3, 4]) => [2, 4]\n",
        "# common_member([1, 2, 3, 4, 5], [6, 7, 8]) => []\n",
        "# common_member([1, 2, 3, 4, 5], [1, 2, 3, 4, 5]) => [1, 2, 3, 4, 5]\n",
        "# common_member([1, 2, 3, 4, 5], [5, 4, 3, 2, 1]) => [1, 2, 3, 4, 5]\n",
        "# common_member([1, 2, 3, 4, 5], [6, 7, 8, 9, 10]) => []\n"
      ],
      "metadata": {
        "id": "3K2MCpiWA-tX",
        "colab": {
          "base_uri": "https://localhost:8080/"
        },
        "outputId": "2d17f761-e8e5-4ed8-c083-6a82c202e73c"
      },
      "execution_count": 20,
      "outputs": [
        {
          "output_type": "stream",
          "name": "stdout",
          "text": [
            "[2, 4]\n",
            "[]\n",
            "[1, 2, 3, 4, 5]\n",
            "[1, 2, 3, 4, 5]\n",
            "[]\n"
          ]
        }
      ]
    },
    {
      "cell_type": "markdown",
      "source": [
        "4.\tกำหนดให้ s เป็น String ให้เขียนโปรแกรมโดยใช้ List comprehension โดยให้ตัดตัวอักษรภาษาอังกฤษที่เป็นสระ a, e, i, o, u ออกจากประโยคให้หมด เช่น\n",
        "\n",
        "- Input : “common_member” จะได้ Output เป็น “cmmn mmbr”\n",
        "\n"
      ],
      "metadata": {
        "id": "V71CdsnEBWu8"
      }
    },
    {
      "cell_type": "code",
      "source": [
        "def remove_vowels(s):\n",
        "    vowels = 'aeiouAEIOU'\n",
        "    return ''.join([char for char in s if char not in vowels])\n",
        "\n",
        "print(remove_vowels(\"common_member\"))\n",
        "print(remove_vowels(\"hello world\"))\n",
        "print(remove_vowels(\"aeiou\"))\n",
        "print(remove_vowels(\"qwertyuiop\"))\n",
        "print(remove_vowels(\"abcdefghijklmnopqrstuvwxyz\"))\n",
        "\n",
        "# remove_vowels(\"common_member\") => \"cmmn mmbr\"\n",
        "# remove_vowels(\"hello world\") => \"hll wrld\"\n",
        "# remove_vowels(\"aeiou\") => \"\"\n",
        "# remove_vowels(\"qwertyuiop\") => \"qwert\n",
        "# remove_vowels(\"abcdefghijklmnopqrstuvwxyz\") => \"bcdfghjklmnp"
      ],
      "metadata": {
        "id": "UNjxlDMqBcSz",
        "colab": {
          "base_uri": "https://localhost:8080/"
        },
        "outputId": "37b64f2d-2db0-491e-f72d-24f50acfc49b"
      },
      "execution_count": 21,
      "outputs": [
        {
          "output_type": "stream",
          "name": "stdout",
          "text": [
            "cmmn_mmbr\n",
            "hll wrld\n",
            "\n",
            "qwrtyp\n",
            "bcdfghjklmnpqrstvwxyz\n"
          ]
        }
      ]
    },
    {
      "cell_type": "markdown",
      "source": [
        "5.\tให้เขียนโปรแกรมรับ list ของจำนวนเต็มชุดหนึ่ง โดย list นี้จะมีสมาชิกพิเศษอยู่ที่ตัวสุดท้าย ซึ่งจะมีค่าเป็นลบเสมอ (สมาชิกตัวอื่นเป็นบวกหรือลบก็ได้) ให้สร้าง list ใหม่ที่เกิดจากสมาชิกทุกตัว (ยกเว้นตัวสุดท้าย) ลบด้วยสมาชิกตัวสุดท้าย\n",
        "- Input : [1, 10, 2, -5]\n",
        "- Output: [-4, 5, -3]\n",
        "- Input : [100, 0, -1]\n",
        "- Output: [99, -1]\n",
        "- Input : [3, -3]\n",
        "\n"
      ],
      "metadata": {
        "id": "Zo07ebrTBjgA"
      }
    },
    {
      "cell_type": "code",
      "source": [
        "def remove_last_element(lst):\n",
        "  last_element = lst[-1]\n",
        "  new_list = [x + last_element for x in lst[:-1]]\n",
        "\n",
        "  return new_list\n",
        "\n",
        "print(remove_last_element([1, 10, 2, -5]))  # Output: [-4, 5, -3]\n",
        "print(remove_last_element([100, 0, -1]))  # Output: [99, -1]\n",
        "print(remove_last_element([3, -3]))     # Output: [0]\n"
      ],
      "metadata": {
        "id": "cSSMJX5fBi8-",
        "colab": {
          "base_uri": "https://localhost:8080/"
        },
        "outputId": "8b519dad-f667-431d-a672-0c0163254dbb"
      },
      "execution_count": 35,
      "outputs": [
        {
          "output_type": "stream",
          "name": "stdout",
          "text": [
            "[-4, 5, -3]\n",
            "[99, -1]\n",
            "[0]\n"
          ]
        }
      ]
    },
    {
      "cell_type": "markdown",
      "source": [
        "6.\tกำหนดให้ s เป็น String ให้เขียนโปรแกรมเพื่อหา คำ ที่มีความยาวน้อยกว่า 5 ตัวอักษร โดยใช้ list comprehension\n",
        "- Input : “A total of 16 playable characters!”\n",
        "- Output : “A total of 16”\n",
        "\n"
      ],
      "metadata": {
        "id": "kguZ7w78CP0W"
      }
    },
    {
      "cell_type": "code",
      "source": [
        "def find_short_words(text):\n",
        "  words = text.split()\n",
        "  short_words = [word for word in words if len(word) < 5]\n",
        "  return ' '.join(short_words)\n",
        "print(find_short_words(\"A total of 16 playable characters!\"))\n",
        "print(find_short_words(\"The quick brown fox jumps over the lazy dog\"))\n",
        "print(find_short_words(\"Python is a great programming language\"))\n",
        "print(find_short_words(\"Short words are kept short and long words are ignored\"))\n",
        "# find_short_words(\"A total of 16 playable characters!\") => \"A total of 16\"\n",
        "# find_short_words(\"The quick brown fox jumps over the lazy dog\") => \"The fox over the dog\"\n",
        "# find_short_words(\"Python is a great programming language\") => \"is a\"\n",
        "# find_short_words(\"Short words are kept short and long words are ignored\") => \"are kept and are\"\n"
      ],
      "metadata": {
        "id": "IN6wcH_WCVJv",
        "colab": {
          "base_uri": "https://localhost:8080/"
        },
        "outputId": "6a9d5b60-c377-4cd4-a926-e66aeac45aae"
      },
      "execution_count": 38,
      "outputs": [
        {
          "output_type": "stream",
          "name": "stdout",
          "text": [
            "A of 16\n",
            "The fox over the lazy dog\n",
            "is a\n",
            "are kept and long are\n"
          ]
        }
      ]
    },
    {
      "cell_type": "markdown",
      "source": [
        "7.\tให้เขียนโปรแกรมเพื่อคำนวณหา rank ของรหัสนักศึกษาที่กำหนด โดยให้เรียงตามคะแนน โดย rank = 1 คือ มีคะแนนสูงสุด โดยใช้ list comprehension\n",
        "กำหนดให้มีข้อมูล s_score มีตัวอย่างดังนี้\n",
        "\n",
        "s_score = [\t[‘65015001’, 87.25],\n",
        "\t\t[‘65015002’, 77.00],\n",
        "\t\t[‘65015003’, 82.50],\n",
        "\t\t[‘65015004’, 69.75],\n",
        "\t\t[‘65015005’, 66.00]  ]\n",
        "    \n",
        "ให้เขียนฟังก์ชัน find_rank( s_score, stu_id ) โดย s_score เป็น list ของคะแนน และ std_id เป็นรหัสนักศึกษาที่ต้องการหา rank\n",
        "เช่น find_rank ( s_score, ‘65015004’) จะ return 4 เพราะมีคะแนนเป็นอันดับ 4\n"
      ],
      "metadata": {
        "id": "yioC3udBDK3M"
      }
    },
    {
      "cell_type": "code",
      "source": [
        "def find_rank(s_score, stu_id):\n",
        "    sorted_scores = [score for score in sorted(s_score, key=lambda x: x[1], reverse=True)]\n",
        "    stu_score = next(score for sid, score in s_score if sid == stu_id)\n",
        "    rank = sum(1 for _, score in sorted_scores if score > stu_score) + 1\n",
        "\n",
        "    return rank\n",
        "\n",
        "s_score = [['65015001', 87.25], ['65015002', 77.00], ['65015003', 82.50], ['65015004', 69.75], ['65015005', 66.00]]\n",
        "print(find_rank(s_score, '65015004'))  # Output: 4\n",
        "\n",
        "s_score = [['65015001', 90.00], ['65015002', 80.00], ['65015003', 85.00], ['65015004', 70.00], ['65015005', 60.00]]\n",
        "print(find_rank(s_score, '65015002'))  # Output: 2\n",
        "\n",
        "s_score = [['65015001', 95.00], ['65015002', 95.00], ['65015003', 90.00], ['65015004', 85.00], ['65015005', 80.00]]\n",
        "print(find_rank(s_score, '65015001'))  # Output: 1\n",
        "\n",
        "s_score = [['65015001', 50.00], ['65015002', 60.00], ['65015003', 70.00], ['65015004', 80.00], ['65015005', 90.00]]\n",
        "print(find_rank(s_score, '65015005'))  # Output: 1\n",
        "\n",
        "s_score = [['65015001', 55.00], ['65015002', 65.00], ['65015003', 75.00], ['65015004', 85.00], ['65015005', 95.00]]\n",
        "print(find_rank(s_score, '65015003'))  # Output: 3\n"
      ],
      "metadata": {
        "id": "72EkAIBjDTO_",
        "colab": {
          "base_uri": "https://localhost:8080/"
        },
        "outputId": "ebec3040-74ca-4863-80f9-d66bab661962"
      },
      "execution_count": 46,
      "outputs": [
        {
          "output_type": "stream",
          "name": "stdout",
          "text": [
            "4\n",
            "3\n",
            "1\n",
            "1\n",
            "3\n"
          ]
        }
      ]
    },
    {
      "cell_type": "markdown",
      "source": [
        "8.\tให้เขียนโปรแกรม เพื่อหาข้อมูลที่มีความถี่มากกว่าครึ่งหนึ่งของจำนวนข้อมูลที่รับเข้ามา แต่ถ้าไม่พบให้แสดง Not found โดยใช้ list comprehension\n",
        "\n",
        "- เช่น \t[4, 5, 5, 10] ได้ผลลัพธ์เป็น Not found\n",
        "-\t[4, 5, 5] ได้ผลลัพธ์เป็น 5\n",
        "-\t[10, 5, 5, 3, 5] ได้ผลลัพธ์เป็น 5\n",
        "-\t[2, 4, 2, 4, 2, 4] ได้ผลลัพธ์เป็น Not found\n",
        "\n",
        "ให้เขียนเป็นฟังก์ชัน ชื่อ more_than_half(n_list) โดย n_list เป็นข้อมูลนำเข้า และ return เป็นผลลัพธ์ หรือ Not found\n"
      ],
      "metadata": {
        "id": "oJGkdpmfEH2e"
      }
    },
    {
      "cell_type": "code",
      "source": [
        "def more_than_half(n_list):\n",
        "    unique_numbers = list(set(n_list))\n",
        "    total = len(n_list)\n",
        "    majority = [num for num in unique_numbers if n_list.count(num) > total // 2]\n",
        "\n",
        "    return majority[0] if majority else \"Not found\"\n",
        "\n",
        "# Test cases\n",
        "print(more_than_half([4, 5, 5, 10]))  # Output: Not found\n",
        "print(more_than_half([4, 5, 5]))  # Output: 5\n",
        "print(more_than_half([10, 5, 5, 3, 5]))  # Output: 5\n",
        "print(more_than_half([2, 4, 2, 4, 2, 4]))  # Output: Not found\n"
      ],
      "metadata": {
        "id": "ahXL6sfbEQUQ",
        "colab": {
          "base_uri": "https://localhost:8080/"
        },
        "outputId": "486ae034-c880-4236-a6bb-319a53041924"
      },
      "execution_count": 47,
      "outputs": [
        {
          "output_type": "stream",
          "name": "stdout",
          "text": [
            "Not found\n",
            "5\n",
            "5\n",
            "Not found\n"
          ]
        }
      ]
    },
    {
      "cell_type": "markdown",
      "source": [
        "9.\tจงเขียนโปรแกรมในแบบ recursion เพื่อกลับ String เช่น\n",
        "- Input : 'desserts'\n",
        "- Output : 'stressed'\n"
      ],
      "metadata": {
        "id": "0oTFJs2PEkL5"
      }
    },
    {
      "cell_type": "code",
      "source": [
        "def reverse_string(s):\n",
        "    if len(s) <= 1:\n",
        "        return s\n",
        "    return ''.join([s[i] for i in range(len(s) - 1, -1, -1)])\n",
        "\n",
        "print(reverse_string('desserts'))  # Output: 'stressed'"
      ],
      "metadata": {
        "id": "_h5KwR9WEo7e",
        "colab": {
          "base_uri": "https://localhost:8080/"
        },
        "outputId": "e967accf-8d85-44c9-cf5d-bbc1f6baa8ef"
      },
      "execution_count": 48,
      "outputs": [
        {
          "output_type": "stream",
          "name": "stdout",
          "text": [
            "stressed\n"
          ]
        }
      ]
    }
  ]
}